{
 "cells": [
  {
   "cell_type": "code",
   "execution_count": 2,
   "metadata": {},
   "outputs": [],
   "source": [
    "import os\n",
    "import numpy as np\n",
    "import matplotlib.pyplot as plt\n",
    "from PIL import Image\n",
    "import random\n",
    "import copy\n",
    "import matplotlib.colors as c "
   ]
  },
  {
   "cell_type": "code",
   "execution_count": 3,
   "metadata": {},
   "outputs": [],
   "source": [
    "# Befehl muss zweimal ausgeführt werden (komisch)\n",
    "%matplotlib qt\n",
    "%matplotlib qt\n",
    "plt.close('all')"
   ]
  },
  {
   "cell_type": "code",
   "execution_count": 4,
   "metadata": {},
   "outputs": [],
   "source": [
    "path_folder = 'F:/Laederach/Labels/single_bmp/' # Image path\n",
    "r = [100,125]\n",
    "rg_variation = [9, 30]\n",
    "gb_variation = [-70, -50]\n",
    "variation = 10"
   ]
  },
  {
   "cell_type": "code",
   "execution_count": 5,
   "metadata": {},
   "outputs": [
    {
     "name": "stdout",
     "output_type": "stream",
     "text": [
      "F:/Laederach/Labels/single_bmp/\n",
      "['01_20181027_Haselnuss.bmp', '01_20181027_Haselnuss_choco.bmp']\n",
      "2\n"
     ]
    }
   ],
   "source": [
    "path_folder, dirs, files = next(os.walk(path_folder))\n",
    "number_images = len(files)\n",
    "\n",
    "print(path_folder)\n",
    "print(files)\n",
    "print(number_images)"
   ]
  },
  {
   "cell_type": "code",
   "execution_count": 33,
   "metadata": {},
   "outputs": [],
   "source": [
    "with Image.open(path_folder + files[1]) as file:\n",
    "    img = np.array(file)\n",
    "    plt.figure(files[1])\n",
    "    plt.imshow(img/255)"
   ]
  },
  {
   "cell_type": "code",
   "execution_count": 7,
   "metadata": {},
   "outputs": [],
   "source": [
    "img_binary = img\n",
    "img_binary[img<255] = 0"
   ]
  },
  {
   "cell_type": "code",
   "execution_count": 8,
   "metadata": {},
   "outputs": [
    {
     "data": {
      "text/plain": [
       "<matplotlib.image.AxesImage at 0x925b198>"
      ]
     },
     "execution_count": 8,
     "metadata": {},
     "output_type": "execute_result"
    }
   ],
   "source": [
    "plt.figure(files[1] + '_' + 'binary')\n",
    "plt.imshow(img_binary)"
   ]
  },
  {
   "cell_type": "code",
   "execution_count": 9,
   "metadata": {},
   "outputs": [
    {
     "name": "stdout",
     "output_type": "stream",
     "text": [
      "(266, 380, 3)\n"
     ]
    }
   ],
   "source": [
    "print(np.shape(img_binary))"
   ]
  },
  {
   "cell_type": "code",
   "execution_count": 10,
   "metadata": {},
   "outputs": [],
   "source": [
    "def color_label_rgb(img, r, rg_variation, gb_variation, variation):\n",
    "    \n",
    "    r_tmp = random.randint(r[0], r[1])\n",
    "    g_tmp = random.randint(r_tmp + rg_variation[0], r_tmp + rg_variation[1])\n",
    "    b_tmp = random.randint(g_tmp + gb_variation[0], g_tmp + gb_variation[1])\n",
    "   \n",
    "    image_colored = copy.deepcopy(img)\n",
    "    y,x,z = np.shape(img)\n",
    "    print(r_tmp, g_tmp, b_tmp)\n",
    "    \n",
    "    for i in range(y):\n",
    "        for j in range(x):\n",
    "            if img[i,j,0] == 0:\n",
    "                r_value = random.randint(r_tmp - variation, r_tmp + variation)\n",
    "                g_value = random.randint(g_tmp - variation, g_tmp + variation)\n",
    "                b_value = random.randint(b_tmp - variation, b_tmp + variation)\n",
    "                image_colored[i,j,0] = r_value\n",
    "                image_colored[i,j,1] = g_value\n",
    "                image_colored[i,j,2] = b_value\n",
    "                if i == 0 and j == 0 and z == 0:\n",
    "                    print(r_value, g_value, b_value)\n",
    "    \n",
    "    return image_colored"
   ]
  },
  {
   "cell_type": "code",
   "execution_count": 11,
   "metadata": {},
   "outputs": [
    {
     "name": "stdout",
     "output_type": "stream",
     "text": [
      "106 128 68\n",
      "112 133 74\n",
      "124 146 79\n",
      "121 136 76\n",
      "109 125 75\n",
      "118 127 60\n",
      "111 128 67\n",
      "111 131 73\n",
      "113 136 72\n",
      "122 147 85\n"
     ]
    }
   ],
   "source": [
    "for i in range(10):\n",
    "    image_color = color_label_rgb(img_binary, r, rg_variation, gb_variation, variation)\n",
    "    plt.figure(str(i))\n",
    "    plt.imshow(image_color)"
   ]
  },
  {
   "cell_type": "markdown",
   "metadata": {},
   "source": [
    "HSV Wikiepdia: <br>\n",
    "https://de.wikipedia.org/wiki/HSV-Farbraum <br>\n",
    "rgb to hsv and hsv to rgb: <br>\n",
    "https://matplotlib.org/api/_as_gen/matplotlib.colors.rgb_to_hsv.html#matplotlib.colors.rgb_to_hsv <br>"
   ]
  },
  {
   "cell_type": "code",
   "execution_count": 29,
   "metadata": {},
   "outputs": [],
   "source": [
    "h = 60/360 # gelb = 60\n",
    "s = 0.9    # Farbsättigung (saturation): (0% = Neutralgrau, 50% = wenig gesättigte Farbe, 100% = gesättigte, reine Farbe), entspricht einem Intervall von Null bis Eins\n",
    "v = 0.9    # Hellwert (auch Dunkelstufe genannt) (value): (0% = keine Helligkeit, 100% = volle Helligkeit), entspricht einem Intervall von Null bis Eins.\n",
    "def color_label_hsv(img, h, s, v):\n",
    "           \n",
    "    image_colored = c.rgb_to_hsv(copy.deepcopy(img))\n",
    "    y,x,z = np.shape(img)\n",
    "    \n",
    "    for i in range(y):\n",
    "        for j in range(x):\n",
    "            if img[i,j,0] == 0:\n",
    "                image_colored[i,j,0] = h\n",
    "                image_colored[i,j,1] = s\n",
    "                image_colored[i,j,2] = v\n",
    "    \n",
    "    return image_colored"
   ]
  },
  {
   "cell_type": "code",
   "execution_count": 30,
   "metadata": {},
   "outputs": [
    {
     "data": {
      "text/plain": [
       "<matplotlib.image.AxesImage at 0x92c8710>"
      ]
     },
     "execution_count": 30,
     "metadata": {},
     "output_type": "execute_result"
    }
   ],
   "source": [
    "image_hsv = color_label_hsv(img_binary/255, h, s, v)\n",
    "# print(np.max(image_hsv), np.min(image_hsv))\n",
    "image_rgb = c.hsv_to_rgb(image_hsv)\n",
    "# print(np.max(image_rgb), np.min(image_rgb))\n",
    "\n",
    "plt.close('all')\n",
    "plt.figure('saf')\n",
    "plt.imshow(image_rgb)"
   ]
  },
  {
   "cell_type": "code",
   "execution_count": 25,
   "metadata": {},
   "outputs": [],
   "source": [
    "plt.close('all')"
   ]
  },
  {
   "cell_type": "code",
   "execution_count": 32,
   "metadata": {},
   "outputs": [
    {
     "name": "stdout",
     "output_type": "stream",
     "text": [
      "[[[255 255 255]\n",
      "  [255 255 255]\n",
      "  [255 255 255]\n",
      "  ...\n",
      "  [255 255 255]\n",
      "  [255 255 255]\n",
      "  [255 255 255]]\n",
      "\n",
      " [[255 255 255]\n",
      "  [255 255 255]\n",
      "  [255 255 255]\n",
      "  ...\n",
      "  [255 255 255]\n",
      "  [255 255 255]\n",
      "  [255 255 255]]\n",
      "\n",
      " [[255 255 255]\n",
      "  [255 255 255]\n",
      "  [255 255 255]\n",
      "  ...\n",
      "  [255 255 255]\n",
      "  [255 255 255]\n",
      "  [255 255 255]]\n",
      "\n",
      " ...\n",
      "\n",
      " [[255 255 255]\n",
      "  [255 255 255]\n",
      "  [255 255 255]\n",
      "  ...\n",
      "  [  0   0   0]\n",
      "  [255 255 255]\n",
      "  [255 255 255]]\n",
      "\n",
      " [[255 255 255]\n",
      "  [255 255 255]\n",
      "  [255 255 255]\n",
      "  ...\n",
      "  [  0   0   0]\n",
      "  [255 255 255]\n",
      "  [255 255 255]]\n",
      "\n",
      " [[255 255 255]\n",
      "  [255 255 255]\n",
      "  [255 255 255]\n",
      "  ...\n",
      "  [255 255 255]\n",
      "  [255 255 255]\n",
      "  [255 255 255]]]\n"
     ]
    }
   ],
   "source": [
    "print(img_binary)"
   ]
  },
  {
   "cell_type": "code",
   "execution_count": 61,
   "metadata": {},
   "outputs": [
    {
     "data": {
      "text/plain": [
       "numpy.ndarray"
      ]
     },
     "execution_count": 61,
     "metadata": {},
     "output_type": "execute_result"
    }
   ],
   "source": [
    "type(img_binary)"
   ]
  },
  {
   "cell_type": "code",
   "execution_count": null,
   "metadata": {},
   "outputs": [],
   "source": []
  }
 ],
 "metadata": {
  "kernelspec": {
   "display_name": "Python 3",
   "language": "python",
   "name": "python3"
  },
  "language_info": {
   "codemirror_mode": {
    "name": "ipython",
    "version": 3
   },
   "file_extension": ".py",
   "mimetype": "text/x-python",
   "name": "python",
   "nbconvert_exporter": "python",
   "pygments_lexer": "ipython3",
   "version": "3.6.4"
  }
 },
 "nbformat": 4,
 "nbformat_minor": 2
}

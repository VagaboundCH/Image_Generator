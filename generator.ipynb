{
 "cells": [
  {
   "cell_type": "code",
   "execution_count": 1,
   "metadata": {},
   "outputs": [],
   "source": [
    "import os\n",
    "import numpy as np\n",
    "import matplotlib.pyplot as plt\n",
    "from PIL import Image\n",
    "import random\n",
    "import copy"
   ]
  },
  {
   "cell_type": "code",
   "execution_count": 2,
   "metadata": {},
   "outputs": [],
   "source": [
    "# Befehl muss zweimal ausgeführt werden (komisch)\n",
    "%matplotlib qt\n",
    "%matplotlib qt"
   ]
  },
  {
   "cell_type": "code",
   "execution_count": 3,
   "metadata": {},
   "outputs": [],
   "source": [
    "path_folder = 'F:/Laederach/Labels/single_bmp/' # Image path\n",
    "r = [65,200]\n",
    "rg_variation = [-20, 40]\n",
    "gb_variation = [10, 70]\n",
    "variation = 10"
   ]
  },
  {
   "cell_type": "code",
   "execution_count": 4,
   "metadata": {},
   "outputs": [
    {
     "name": "stdout",
     "output_type": "stream",
     "text": [
      "F:/Laederach/Labels/single_bmp/\n",
      "['01_20181027_Haselnuss.bmp', '01_20181027_Haselnuss_choco.bmp']\n",
      "2\n"
     ]
    }
   ],
   "source": [
    "path_folder, dirs, files = next(os.walk(path_folder))\n",
    "number_images = len(files)\n",
    "\n",
    "print(path_folder)\n",
    "print(files)\n",
    "print(number_images)"
   ]
  },
  {
   "cell_type": "code",
   "execution_count": 5,
   "metadata": {},
   "outputs": [],
   "source": [
    "with Image.open(path_folder + files[1]) as file:\n",
    "    img = np.array(file)\n",
    "    plt.figure(files[1])\n",
    "    plt.imshow(img)"
   ]
  },
  {
   "cell_type": "code",
   "execution_count": 6,
   "metadata": {},
   "outputs": [],
   "source": [
    "img_binary = img\n",
    "img_binary[img<255] = 0"
   ]
  },
  {
   "cell_type": "code",
   "execution_count": 7,
   "metadata": {},
   "outputs": [
    {
     "data": {
      "text/plain": [
       "<matplotlib.image.AxesImage at 0x8fa6da0>"
      ]
     },
     "execution_count": 7,
     "metadata": {},
     "output_type": "execute_result"
    }
   ],
   "source": [
    "plt.figure(files[1] + '_' + 'binary')\n",
    "plt.imshow(img_binary)"
   ]
  },
  {
   "cell_type": "code",
   "execution_count": 8,
   "metadata": {},
   "outputs": [
    {
     "name": "stdout",
     "output_type": "stream",
     "text": [
      "(266, 380, 3)\n"
     ]
    }
   ],
   "source": [
    "print(np.shape(img_binary))"
   ]
  },
  {
   "cell_type": "code",
   "execution_count": 9,
   "metadata": {},
   "outputs": [],
   "source": [
    "def color_label(img, r, rg_variation, gb_variation, variation):\n",
    "    \n",
    "    r_tmp = random.randint(r[0], r[1])\n",
    "    g_tmp = random.randint(r_tmp + rg_variation[0], r_tmp + rg_variation[1])\n",
    "    b_tmp = random.randint(g_tmp + gb_variation[0], g_tmp + gb_variation[1])\n",
    "   \n",
    "    image_colored = copy.deepcopy(img)\n",
    "    y,x,z = np.shape(img)\n",
    "    print(r_tmp, g_tmp, b_tmp)\n",
    "    \n",
    "    for i in range(y):\n",
    "        for j in range(x):\n",
    "            if img[i,j,0] == 0:\n",
    "                r_value = random.randint(r_tmp - variation, r_tmp + variation)\n",
    "                g_value = random.randint(g_tmp - variation, g_tmp + variation)\n",
    "                b_value = random.randint(b_tmp - variation, b_tmp + variation)\n",
    "                image_colored[i,j,0] = r_value\n",
    "                image_colored[i,j,1] = g_value\n",
    "                image_colored[i,j,2] = b_value\n",
    "                if i == 0 and j == 0 and z == 0:\n",
    "                    print(r_value, g_value, b_value)\n",
    "    \n",
    "    return image_colored"
   ]
  },
  {
   "cell_type": "code",
   "execution_count": 12,
   "metadata": {},
   "outputs": [
    {
     "name": "stdout",
     "output_type": "stream",
     "text": [
      "90 71 112\n",
      "124 118 166\n",
      "77 70 80\n",
      "76 93 130\n",
      "109 108 169\n",
      "110 91 135\n",
      "98 133 194\n",
      "83 100 169\n",
      "141 137 200\n",
      "111 144 195\n",
      "80 113 182\n",
      "185 174 195\n",
      "130 135 183\n",
      "95 82 134\n",
      "178 193 222\n",
      "149 157 178\n",
      "102 113 166\n",
      "165 190 215\n",
      "169 164 227\n",
      "138 136 192\n"
     ]
    }
   ],
   "source": [
    "for i in range(20):\n",
    "    image_color = color_label(img_binary, r, rg_variation, gb_variation, variation)\n",
    "    plt.figure(str(i))\n",
    "    plt.imshow(image_color)"
   ]
  },
  {
   "cell_type": "code",
   "execution_count": 11,
   "metadata": {},
   "outputs": [],
   "source": [
    "plt.close('all')"
   ]
  },
  {
   "cell_type": "code",
   "execution_count": 15,
   "metadata": {},
   "outputs": [
    {
     "data": {
      "text/plain": [
       "<matplotlib.image.AxesImage at 0x8e64a90>"
      ]
     },
     "execution_count": 15,
     "metadata": {},
     "output_type": "execute_result"
    }
   ],
   "source": [
    "plt.figure('adsfasdf')\n",
    "plt.imshow(img_binary)"
   ]
  },
  {
   "cell_type": "code",
   "execution_count": 17,
   "metadata": {},
   "outputs": [
    {
     "name": "stdout",
     "output_type": "stream",
     "text": [
      "5 6\n"
     ]
    }
   ],
   "source": [
    "a = 5\n",
    "b = a\n",
    "b = b + 1\n",
    "print(a,b)"
   ]
  },
  {
   "cell_type": "code",
   "execution_count": 14,
   "metadata": {},
   "outputs": [
    {
     "data": {
      "text/plain": [
       "<matplotlib.image.AxesImage at 0x8dfca90>"
      ]
     },
     "execution_count": 14,
     "metadata": {},
     "output_type": "execute_result"
    }
   ],
   "source": [
    "plt.figure('asdfasdf')\n",
    "plt.imshow(img_binary)"
   ]
  },
  {
   "cell_type": "code",
   "execution_count": null,
   "metadata": {},
   "outputs": [],
   "source": []
  }
 ],
 "metadata": {
  "kernelspec": {
   "display_name": "Python 3",
   "language": "python",
   "name": "python3"
  },
  "language_info": {
   "codemirror_mode": {
    "name": "ipython",
    "version": 3
   },
   "file_extension": ".py",
   "mimetype": "text/x-python",
   "name": "python",
   "nbconvert_exporter": "python",
   "pygments_lexer": "ipython3",
   "version": "3.6.4"
  }
 },
 "nbformat": 4,
 "nbformat_minor": 2
}
